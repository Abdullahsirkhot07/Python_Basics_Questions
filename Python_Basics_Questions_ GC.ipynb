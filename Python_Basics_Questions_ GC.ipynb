{
  "nbformat": 4,
  "nbformat_minor": 0,
  "metadata": {
    "colab": {
      "provenance": []
    },
    "kernelspec": {
      "name": "python3",
      "display_name": "Python 3"
    },
    "language_info": {
      "name": "python"
    }
  },
  "cells": [
    {
      "cell_type": "markdown",
      "source": [
        "#Python Basics Questions"
      ],
      "metadata": {
        "id": "HXl_Jgqzh-Mx"
      }
    },
    {
      "cell_type": "markdown",
      "source": [
        "Question (1)  \n",
        "\n",
        "       ans :- Python is a high-level, general-purpose programming language that was created by Guido van Rossum and released in 1991. It is designed to be easy to read and write, using simple and clear syntax — which makes it a great choice for beginners and professionals alike.\n",
        "\n",
        "Here’s why Python is popular:\n",
        "\n",
        "Easy to Learn and Use\n",
        "\n",
        "1- Python has simple syntax similar to the English language, making it beginner-friendly.\n",
        "\n",
        "\n",
        "\n",
        "2- Versatile Applications\n",
        "\n",
        "Python is used in web development, data science, machine learning, automation, artificial intelligence, finance, and more.\n",
        "\n",
        "\n",
        "\n",
        "3- Huge Community Support\n",
        "\n",
        "There are millions of Python developers worldwide, offering libraries, frameworks, and help.\n",
        "\n",
        "\n",
        "\n",
        "4- Extensive Libraries and Frameworks\n",
        "\n",
        "Libraries like Pandas, TensorFlow, Django, and Flask save developers a lot of time.\n",
        "\n",
        "\n",
        "\n",
        "5- Cross-Platform Compatibility\n",
        "\n",
        "Python works on Windows, macOS, and Linux with little or no changes neededb."
      ],
      "metadata": {
        "id": "wlTcDpy3iFYd"
      }
    },
    {
      "cell_type": "markdown",
      "source": [
        "**Question (2)**\n",
        "    ans:- In Python, an interpreter is a program that reads, understands, and executes Python code line by line, instead of compiling the whole code into machine language at once like a compiler does."
      ],
      "metadata": {
        "id": "MkSaqPtiiFMl"
      }
    },
    {
      "cell_type": "markdown",
      "source": [
        "Question (3)\n",
        "    ans:- In Python, predefined keywords are special words that are reserved because they have a specific meaning to the Python interpreter.\n",
        "You cannot use them for naming variables, functions, or anything else.\n",
        "\n",
        "For example, words like if, else, for, while, class, def, and return are all predefined keywords."
      ],
      "metadata": {
        "id": "kQ0w3PM1iE7s"
      }
    },
    {
      "cell_type": "markdown",
      "source": [
        "Question (4)\n",
        "    ans:- No, in Python, keywords cannot be used as variable names because they are reserved for special meanings in the language"
      ],
      "metadata": {
        "id": "RG97uFD3iEeu"
      }
    },
    {
      "cell_type": "markdown",
      "source": [
        "Question (5)\n",
        "    ans:- In Python, mutability refers to whether or not an object’s value can be changed after it is created.\n",
        "    "
      ],
      "metadata": {
        "id": "2nQCUqvKi1OE"
      }
    },
    {
      "cell_type": "markdown",
      "source": [
        "Question (6)\n",
        "    ans:- In Python:\n",
        "\n",
        "Lists are mutable because they are designed to allow changes — you can add, remove, or modify elements.\n",
        "\n",
        "Tuples are immutable because they are designed to be fixed collections — once created, you cannot change their content."
      ],
      "metadata": {
        "id": "mn7c9Lbhi4Tk"
      }
    },
    {
      "cell_type": "markdown",
      "source": [
        "Question (7)\n",
        "    ans:- In Python, == and is are different operators:\n",
        "\n",
        "\n",
        "Operator\tMeaning\tExample\tResult\n",
        "==\tChecks if two values are equal (compares contents)\t5 == 5\tTrue\n",
        "is\tChecks if two variables point to the same object in memory\ta is b\tTrue only if both are exactly the same object"
      ],
      "metadata": {
        "id": "GR1cP7sJi4kU"
      }
    },
    {
      "cell_type": "markdown",
      "source": [
        "Question (8)\n",
        "    ans:- In Python, logical operators are used to combine conditional statements (conditions that are either True or False).\n"
      ],
      "metadata": {
        "id": "nbIVG_iji6h5"
      }
    },
    {
      "cell_type": "markdown",
      "source": [
        "Question (9)\n",
        "    ans:- In Python, typecasting means converting one data type into another — like turning a string into an integer, or a float into a string."
      ],
      "metadata": {
        "id": "_vlyA0NOi6ZM"
      }
    },
    {
      "cell_type": "markdown",
      "source": [
        "Question (10)\n",
        "    ans :- In Python, implicit and explicit typecasting are two ways of converting data types:\n",
        "\n",
        "\n",
        "Typecasting\tMeaning\tExample\tWho does it?\n",
        "\n",
        "1) Implicit\tPython automatically converts the type\tx = 5 + 2.0 → result is 7.0 (integer + float = float)\tPython\n",
        "\n",
        "2) Explicit\tYou manually convert the type using functions like int(), float(), str()\tx = int(2.9) → result is 2\tProgrammer"
      ],
      "metadata": {
        "id": "EyAs-NrRi6Ou"
      }
    },
    {
      "cell_type": "markdown",
      "source": [
        "Question (11)\n",
        "    ans:- The purpose of conditional statements in Python is to allow the program to make decisions based on certain conditions (whether a condition is True or False). They help control the flow of the program by executing different blocks of code depending on the outcome of a condition."
      ],
      "metadata": {
        "id": "i04fUKQ_i6F8"
      }
    },
    {
      "cell_type": "markdown",
      "source": [
        "Question (12)\n",
        "    ans:- How elif works:\n",
        "First, the if condition is checked.\n",
        "\n",
        "If the if condition is False, Python will check the elif conditions one by one, in the order they are written.\n",
        "\n",
        "If none of the conditions are True, the else block (if provided) is executed."
      ],
      "metadata": {
        "id": "HU-ffmAki57s"
      }
    },
    {
      "cell_type": "markdown",
      "source": [
        "Question (13)\n",
        "    ans:- In Python, both for and while loops are used to repeat a block of code, but they differ in how they control the loop’s execution.\n",
        "\n",
        "1. for loop:\n",
        "Used when you know the number of iterations in advance or you are iterating over a sequence (like a list, string, or range).\n",
        "\n",
        "The loop variable takes each item from the sequence and executes the code block for each item.\n",
        "\n",
        "2. while loop:\n",
        "Used when you want to loop while a condition is True.\n",
        "\n",
        "It keeps running the code block until the condition becomes False."
      ],
      "metadata": {
        "id": "DnPBiEZmi5s0"
      }
    },
    {
      "cell_type": "markdown",
      "source": [
        "Question (14)\n",
        "    ans:- A while loop is more suitable than a for loop in situations where you don’t know how many iterations are needed in advance, and the loop should continue until a certain condition is met.\n",
        "\n",
        "Scenario: User Authentication (Login Attempt)\n",
        "Let's say you are building a simple user authentication system where you want to allow a user to try logging in multiple times, but you want to stop if the user enters the correct credentials or reaches a certain number of attempts.\n",
        "\n",
        "Here, a while loop is ideal because the number of login attempts is not fixed, but the loop will run until the user enters the correct password or exceeds the maximum allowed attempts."
      ],
      "metadata": {
        "id": "cOH78wJHi5Ol"
      }
    },
    {
      "cell_type": "markdown",
      "source": [
        "# Practical Questions"
      ],
      "metadata": {
        "id": "biI1bB5sj5bL"
      }
    },
    {
      "cell_type": "code",
      "source": [
        "#question (1)\n",
        "print (\"Hello,World!\")"
      ],
      "metadata": {
        "colab": {
          "base_uri": "https://localhost:8080/"
        },
        "id": "6w-PMrhQkMNr",
        "outputId": "ad9afd20-1d9b-45b0-855c-a31c5d997844"
      },
      "execution_count": 1,
      "outputs": [
        {
          "output_type": "stream",
          "name": "stdout",
          "text": [
            "Hello,World!\n"
          ]
        }
      ]
    },
    {
      "cell_type": "code",
      "source": [
        "#question (2)\n",
        "name = input(' name ')\n",
        "age = input (\" age\" )"
      ],
      "metadata": {
        "colab": {
          "base_uri": "https://localhost:8080/"
        },
        "id": "3UNnFghRkPnz",
        "outputId": "39cce766-9eaa-4cf8-91a2-13e3abf8d0dc"
      },
      "execution_count": 2,
      "outputs": [
        {
          "name": "stdout",
          "output_type": "stream",
          "text": [
            " name abdullah sirkhot \n",
            " age20 years old\n"
          ]
        }
      ]
    },
    {
      "cell_type": "code",
      "source": [
        "#question (3)\n",
        "help(\"keywords\")"
      ],
      "metadata": {
        "colab": {
          "base_uri": "https://localhost:8080/"
        },
        "id": "ycEt566bkPk7",
        "outputId": "da92f9f2-3499-4d77-dc95-7eb749fc4b32"
      },
      "execution_count": 3,
      "outputs": [
        {
          "output_type": "stream",
          "name": "stdout",
          "text": [
            "\n",
            "Here is a list of the Python keywords.  Enter any keyword to get more help.\n",
            "\n",
            "False               class               from                or\n",
            "None                continue            global              pass\n",
            "True                def                 if                  raise\n",
            "and                 del                 import              return\n",
            "as                  elif                in                  try\n",
            "assert              else                is                  while\n",
            "async               except              lambda              with\n",
            "await               finally             nonlocal            yield\n",
            "break               for                 not                 \n",
            "\n"
          ]
        }
      ]
    },
    {
      "cell_type": "code",
      "source": [
        "#question (4)\n",
        "import keyword\n",
        "\n",
        "# Function to check if a word is a Python keyword\n",
        "def is_keyword(word):\n",
        "    if keyword.iskeyword(word):\n",
        "        print(f\"'{word}' is a Python keyword.\")\n",
        "    else:\n",
        "        print(f\"'{word}' is not a Python keyword.\")\n",
        "\n",
        "# Get input from the user\n",
        "word = input(\"Enter a word to check if it is a Python keyword: \")\n",
        "is_keyword(word)"
      ],
      "metadata": {
        "colab": {
          "base_uri": "https://localhost:8080/"
        },
        "id": "WGWYawRGkPiP",
        "outputId": "6c9d5080-211b-4125-fa91-b48aaa008a09"
      },
      "execution_count": 4,
      "outputs": [
        {
          "output_type": "stream",
          "name": "stdout",
          "text": [
            "Enter a word to check if it is a Python keyword: with\n",
            "'with' is a Python keyword.\n"
          ]
        }
      ]
    },
    {
      "cell_type": "code",
      "source": [
        "#question (5)\n",
        "Updated list: [10, 20, 50, 40]\n",
        "\n",
        "my_tuple = (10, 20, 30, 40)\n",
        "\n",
        "# Attempting to change an element (this will raise an error)\n",
        "try:\n",
        "    my_tuple[2] = 50  # Trying to change the 3rd element (index 2)\n",
        "except TypeError as e:\n",
        "    print(f\"Error: {e}\")\n",
        "Error: 'tuple' object does not support item assignment"
      ],
      "metadata": {
        "colab": {
          "base_uri": "https://localhost:8080/",
          "height": 111
        },
        "id": "FsLRbZQ_kPfp",
        "outputId": "c4d54e0b-0de9-4bce-91c6-ee1738df3eb7"
      },
      "execution_count": 5,
      "outputs": [
        {
          "output_type": "error",
          "ename": "SyntaxError",
          "evalue": "invalid syntax (<ipython-input-5-b8d8e1195981>, line 2)",
          "traceback": [
            "\u001b[0;36m  File \u001b[0;32m\"<ipython-input-5-b8d8e1195981>\"\u001b[0;36m, line \u001b[0;32m2\u001b[0m\n\u001b[0;31m    Updated list: [10, 20, 50, 40]\u001b[0m\n\u001b[0m            ^\u001b[0m\n\u001b[0;31mSyntaxError\u001b[0m\u001b[0;31m:\u001b[0m invalid syntax\n"
          ]
        }
      ]
    },
    {
      "cell_type": "code",
      "source": [
        "#question (6)\n",
        "def demonstrate_mutable_immutable(arg1, arg2):\n",
        "    print(\"Before modification:\")\n",
        "    print(\"arg1 (immutable):\", arg1)\n",
        "    print(\"arg2 (mutable):\", arg2)\n",
        "\n",
        "    # Modify the mutable argument (list)\n",
        "    arg2.append(100)\n",
        "\n",
        "    # Modify the immutable argument (int)\n",
        "    arg1 += 10  # This creates a new value for arg1, it doesn't change the original\n",
        "\n",
        "    print(\"\\nInside function after modification:\")\n",
        "    print(\"arg1 (immutable):\", arg1)  # arg1 is modified locally, but original outside function is unchanged\n",
        "    print(\"arg2 (mutable):\", arg2)  # arg2 is modified, and original outside function is changed\n",
        "\n",
        "# Testing the function with mutable and immutable arguments\n",
        "immutable_arg = 5  # integer (immutable)\n",
        "mutable_arg = [1, 2, 3]  # list (mutable)\n",
        "\n",
        "# Call the function with immutable and mutable arguments\n",
        "demonstrate_mutable_immutable(immutable_arg, mutable_arg)\n",
        "\n",
        "# Check the values outside the function\n",
        "print(\"\\nOutside function:\")\n",
        "print(\"immutable_arg (outside function):\", immutable_arg)\n",
        "print(\"mutable_arg (outside function):\", mutable_arg)"
      ],
      "metadata": {
        "colab": {
          "base_uri": "https://localhost:8080/"
        },
        "id": "9lE-7GLKkPcn",
        "outputId": "dc7109aa-b38e-4885-d339-8ee3a901bee1"
      },
      "execution_count": 6,
      "outputs": [
        {
          "output_type": "stream",
          "name": "stdout",
          "text": [
            "Before modification:\n",
            "arg1 (immutable): 5\n",
            "arg2 (mutable): [1, 2, 3]\n",
            "\n",
            "Inside function after modification:\n",
            "arg1 (immutable): 15\n",
            "arg2 (mutable): [1, 2, 3, 100]\n",
            "\n",
            "Outside function:\n",
            "immutable_arg (outside function): 5\n",
            "mutable_arg (outside function): [1, 2, 3, 100]\n"
          ]
        }
      ]
    },
    {
      "cell_type": "code",
      "source": [
        "#Question (7)\n",
        " # Function to perform basic arithmetic operations\n",
        "def basic_arithmetic_operations(num1, num2):\n",
        "    # Addition\n",
        "    addition = num1 + num2\n",
        "    # Subtraction\n",
        "    subtraction = num1 - num2\n",
        "    # Multiplication\n",
        "    multiplication = num1 * num2\n",
        "    # Division with error handling\n",
        "    if num2 != 0:\n",
        "        division = num1 / num2\n",
        "    else:\n",
        "        division = \"Error: Division by zero is not allowed\"\n",
        "\n",
        "    # Display the results\n",
        "    print(f\"Addition: {num1} + {num2} = {addition}\")\n",
        "    print(f\"Subtraction: {num1} - {num2} = {subtraction}\")\n",
        "    print(f\"Multiplication: {num1} * {num2} = {multiplication}\")\n",
        "    print(f\"Division: {num1} / {num2} = {division}\")\n",
        "\n",
        "# Input from user\n",
        "try:\n",
        "    num1 = float(input(\"Enter the first number: \"))\n",
        "    num2 = float(input(\"Enter the second number: \"))\n",
        "\n",
        "    # Call the function to perform operations\n",
        "    basic_arithmetic_operations(num1, num2)\n",
        "except ValueError:\n",
        "    print(\"Invalid input! Please enter valid numbers.\")"
      ],
      "metadata": {
        "colab": {
          "base_uri": "https://localhost:8080/"
        },
        "id": "vsNwBnz5kPZg",
        "outputId": "e76f032d-2347-4066-d562-64b7abaf9ebb"
      },
      "execution_count": 7,
      "outputs": [
        {
          "output_type": "stream",
          "name": "stdout",
          "text": [
            "Enter the first number: 5\n",
            "Enter the second number: 7\n",
            "Addition: 5.0 + 7.0 = 12.0\n",
            "Subtraction: 5.0 - 7.0 = -2.0\n",
            "Multiplication: 5.0 * 7.0 = 35.0\n",
            "Division: 5.0 / 7.0 = 0.7142857142857143\n"
          ]
        }
      ]
    },
    {
      "cell_type": "code",
      "source": [
        "#Question (8)\n",
        "# Function to demonstrate logical operators\n",
        "def logical_operators_demo(a, b):\n",
        "    # Using 'and' operator\n",
        "    and_result = (a > 5) and (b < 10)\n",
        "\n",
        "    # Using 'or' operator\n",
        "    or_result = (a > 5) or (b < 5)\n",
        "\n",
        "    # Using 'not' operator\n",
        "    not_result = not(a > b)\n",
        "\n",
        "    # Displaying the results\n",
        "    print(f\"Is {a} greater than 5 and {b} less than 10? {and_result}\")\n",
        "    print(f\"Is {a} greater than 5 or {b} less than 5? {or_result}\")\n",
        "    print(f\"Is it not true that {a} is greater than {b}? {not_result}\")\n",
        "\n",
        "# Input from user\n",
        "try:\n",
        "    a = int(input(\"Enter the first number: \"))\n",
        "    b = int(input(\"Enter the second number: \"))\n",
        "\n",
        "    # Call the function to demonstrate logical operators\n",
        "    logical_operators_demo(a, b)\n",
        "except ValueError:\n",
        "    print(\"Invalid input! Please enter valid numbers.\")"
      ],
      "metadata": {
        "colab": {
          "base_uri": "https://localhost:8080/"
        },
        "id": "749nccwwkPWb",
        "outputId": "a8b60310-c9e8-424c-df56-232d9b4e33fa"
      },
      "execution_count": 8,
      "outputs": [
        {
          "output_type": "stream",
          "name": "stdout",
          "text": [
            "Enter the first number: 7\n",
            "Enter the second number: 9\n",
            "Is 7 greater than 5 and 9 less than 10? True\n",
            "Is 7 greater than 5 or 9 less than 5? True\n",
            "Is it not true that 7 is greater than 9? True\n"
          ]
        }
      ]
    },
    {
      "cell_type": "code",
      "source": [
        "#Question (9)\n",
        "# Function to demonstrate conversion of input to different types\n",
        "def convert_input():\n",
        "    user_input = input(\"Enter a value: \")\n",
        "\n",
        "    try:\n",
        "        # Converting to integer\n",
        "        int_value = int(user_input)\n",
        "        print(f\"The input as an integer: {int_value}\")\n",
        "    except ValueError:\n",
        "        print(\"Could not convert to integer.\")\n",
        "\n",
        "    try:\n",
        "        # Converting to float\n",
        "        float_value = float(user_input)\n",
        "        print(f\"The input as a float: {float_value}\")\n",
        "    except ValueError:\n",
        "        print(\"Could not convert to float.\")\n",
        "\n",
        "    # Converting to boolean\n",
        "    bool_value = user_input.lower() in ['true', '1', 't', 'y', 'yes']\n",
        "    print(f\"The input as a boolean: {bool_value}\")\n",
        "\n",
        "# Call the function\n",
        "convert_input()\n"
      ],
      "metadata": {
        "colab": {
          "base_uri": "https://localhost:8080/"
        },
        "id": "5i4Mr_c1kPTc",
        "outputId": "f9904f9f-4ff2-423e-a986-da0fe6224575"
      },
      "execution_count": 9,
      "outputs": [
        {
          "output_type": "stream",
          "name": "stdout",
          "text": [
            "Enter a value: 32\n",
            "The input as an integer: 32\n",
            "The input as a float: 32.0\n",
            "The input as a boolean: False\n"
          ]
        }
      ]
    },
    {
      "cell_type": "code",
      "source": [
        "# Question (10)\n",
        "# Function to demonstrate typecasting with list elements\n",
        "def typecasting_with_list_elements():\n",
        "    # Example list of string elements\n",
        "    str_list = [\"10\", \"20.5\", \"30\", \"40.7\"]\n",
        "\n",
        "    # Convert each element to an integer (if possible)\n",
        "    int_list = [int(x) if '.' not in x else int(float(x)) for x in str_list]\n",
        "\n",
        "    # Convert each element to a float\n",
        "    float_list = [float(x) for x in str_list]\n",
        "\n",
        "    # Convert each element to boolean (considering non-empty strings as True)\n",
        "    bool_list = [bool(x) for x in str_list]\n",
        "\n",
        "    # Display the results\n",
        "    print(\"Original list (strings):\", str_list)\n",
        "    print(\"List with typecasted integers:\", int_list)\n",
        "    print(\"List with typecasted floats:\", float_list)\n",
        "    print(\"List with typecasted booleans:\", bool_list)\n",
        "\n",
        "# Call the function\n",
        "typecasting_with_list_elements()"
      ],
      "metadata": {
        "colab": {
          "base_uri": "https://localhost:8080/"
        },
        "id": "MqbYqig-kPQm",
        "outputId": "5f81fdbc-53a8-42f2-fdf4-5e7ad676536c"
      },
      "execution_count": 10,
      "outputs": [
        {
          "output_type": "stream",
          "name": "stdout",
          "text": [
            "Original list (strings): ['10', '20.5', '30', '40.7']\n",
            "List with typecasted integers: [10, 20, 30, 40]\n",
            "List with typecasted floats: [10.0, 20.5, 30.0, 40.7]\n",
            "List with typecasted booleans: [True, True, True, True]\n"
          ]
        }
      ]
    },
    {
      "cell_type": "code",
      "source": [
        "#Question (11)\n",
        "# Function to check if a number is positive, negative, or zero\n",
        "def check_number():\n",
        "    try:\n",
        "        # Taking input from the user\n",
        "        num = float(input(\"Enter a number: \"))\n",
        "\n",
        "        # Checking the condition for positive, negative, or zero\n",
        "        if num > 0:\n",
        "            print(f\"{num} is a positive number.\")\n",
        "        elif num < 0:\n",
        "            print(f\"{num} is a negative number.\")\n",
        "        else:\n",
        "            print(f\"{num} is zero.\")\n",
        "    except ValueError:\n",
        "        print(\"Invalid input! Please enter a valid number.\")\n",
        "\n",
        "# Call the function\n",
        "check_number()"
      ],
      "metadata": {
        "colab": {
          "base_uri": "https://localhost:8080/"
        },
        "id": "_sRCiBHfkPNY",
        "outputId": "098b6b36-112a-4221-984e-69a4d233e537"
      },
      "execution_count": 11,
      "outputs": [
        {
          "output_type": "stream",
          "name": "stdout",
          "text": [
            "Enter a number: 65\n",
            "65.0 is a positive number.\n"
          ]
        }
      ]
    },
    {
      "cell_type": "code",
      "source": [
        "#Question(12)\n",
        "# Using a for loop to print numbers from 1 to 10\n",
        "for i in range(1, 11):\n",
        "    print(i)\n"
      ],
      "metadata": {
        "colab": {
          "base_uri": "https://localhost:8080/"
        },
        "id": "NJfa1tIYkPKk",
        "outputId": "cd29adfb-84a3-43cf-9335-ab5d0ab2886b"
      },
      "execution_count": 12,
      "outputs": [
        {
          "output_type": "stream",
          "name": "stdout",
          "text": [
            "1\n",
            "2\n",
            "3\n",
            "4\n",
            "5\n",
            "6\n",
            "7\n",
            "8\n",
            "9\n",
            "10\n"
          ]
        }
      ]
    },
    {
      "cell_type": "code",
      "source": [
        "#Question (13)\n",
        "# Function to find the sum of all even numbers between 1 and 50\n",
        "def sum_of_even_numbers():\n",
        "    # Initialize the sum variable\n",
        "    total_sum = 0\n",
        "\n",
        "    # Loop through numbers from 1 to 50\n",
        "    for num in range(1, 51):\n",
        "        if num % 2 == 0:  # Check if the number is even\n",
        "            total_sum += num  # Add the even number to the sum\n",
        "\n",
        "    print(f\"The sum of all even numbers between 1 and 50 is: {total_sum}\")\n",
        "\n",
        "# Call the function\n",
        "sum_of_even_numbers()\n"
      ],
      "metadata": {
        "colab": {
          "base_uri": "https://localhost:8080/"
        },
        "id": "Hk8HsE81kPHT",
        "outputId": "98ceef27-cc9d-4559-f381-ecc01d963e76"
      },
      "execution_count": 13,
      "outputs": [
        {
          "output_type": "stream",
          "name": "stdout",
          "text": [
            "The sum of all even numbers between 1 and 50 is: 650\n"
          ]
        }
      ]
    },
    {
      "cell_type": "code",
      "source": [
        "# Question (14)\n",
        "# Function to reverse a string using a while loop\n",
        "def reverse_string(input_string):\n",
        "    # Initialize an empty string to store the reversed string\n",
        "    reversed_string = \"\"\n",
        "\n",
        "    # Set the index to the last character of the string\n",
        "    index = len(input_string) - 1\n",
        "\n",
        "    # Loop through the string in reverse order\n",
        "    while index >= 0:\n",
        "        reversed_string += input_string[index]  # Add each character to reversed_string\n",
        "        index -= 1  # Move to the previous character\n",
        "\n",
        "    return reversed_string\n",
        "\n",
        "# Input from the user\n",
        "user_input = input(\"Enter a string to reverse: \")\n",
        "\n",
        "# Call the function and display the reversed string\n",
        "print(f\"Reversed string: {reverse_string(user_input)}\")"
      ],
      "metadata": {
        "colab": {
          "base_uri": "https://localhost:8080/"
        },
        "id": "YlRGycWokPED",
        "outputId": "37545c77-26dc-41fd-c469-6836f01e8410"
      },
      "execution_count": 14,
      "outputs": [
        {
          "output_type": "stream",
          "name": "stdout",
          "text": [
            "Enter a string to reverse: abdullah \n",
            "Reversed string:  halludba\n"
          ]
        }
      ]
    },
    {
      "cell_type": "code",
      "source": [
        "# Question (15)\n",
        "# Function to calculate the factorial of a number using a while loop\n",
        "def calculate_factorial(number):\n",
        "    # Initialize factorial as 1 (since factorial of 0 is 1)\n",
        "    factorial = 1\n",
        "\n",
        "    # Check if the number is non-negative\n",
        "    if number < 0:\n",
        "        return \"Factorial does not exist for negative numbers\"\n",
        "\n",
        "    # Calculate factorial using a while loop\n",
        "    while number > 1:\n",
        "        factorial *= number  # Multiply factorial by the current number\n",
        "        number -= 1  # Decrease the number by 1\n",
        "\n",
        "    return factorial\n",
        "\n",
        "# Input from the user\n",
        "user_input = int(input(\"Enter a number to calculate its factorial: \"))\n",
        "\n",
        "# Call the function and display the result\n",
        "print(f\"The factorial is: {calculate_factorial(user_input)}\")"
      ],
      "metadata": {
        "colab": {
          "base_uri": "https://localhost:8080/"
        },
        "id": "HkLp15PDkPAz",
        "outputId": "f8aac9c3-e6ac-4fab-9726-ce8a1c84d880"
      },
      "execution_count": 15,
      "outputs": [
        {
          "output_type": "stream",
          "name": "stdout",
          "text": [
            "Enter a number to calculate its factorial: 27\n",
            "The factorial is: 10888869450418352160768000000\n"
          ]
        }
      ]
    }
  ]
}